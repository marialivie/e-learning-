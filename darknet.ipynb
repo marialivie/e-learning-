{
  "nbformat": 4,
  "nbformat_minor": 0,
  "metadata": {
    "colab": {
      "provenance": [],
      "authorship_tag": "ABX9TyNpHnGTHqr1jufOveVClLTd",
      "include_colab_link": true
    },
    "kernelspec": {
      "name": "python3",
      "display_name": "Python 3"
    },
    "language_info": {
      "name": "python"
    }
  },
  "cells": [
    {
      "cell_type": "markdown",
      "metadata": {
        "id": "view-in-github",
        "colab_type": "text"
      },
      "source": [
        "<a href=\"https://colab.research.google.com/github/marialivie/e-learning-/blob/main/darknet.ipynb\" target=\"_parent\"><img src=\"https://colab.research.google.com/assets/colab-badge.svg\" alt=\"Open In Colab\"/></a>"
      ]
    },
    {
      "cell_type": "code",
      "execution_count": null,
      "metadata": {
        "id": "tN3IRnJppgsb"
      },
      "outputs": [],
      "source": [
        "import pandas as pd\n",
        "#Φόρτωση δεδομένων από το GitHub\n",
        "url= 'https://github.com.kdemertzis/EKPA/blob/main/Data/DarkNet.csv?raw=true'\n",
        "data = pd.read_csv(url)\n"
      ]
    },
    {
      "cell_type": "code",
      "source": [
        "# Προβολή των πρώτων γραμμών δεδομένων\n",
        "data.head()"
      ],
      "metadata": {
        "id": "NDPwOm7itlvI"
      },
      "execution_count": null,
      "outputs": []
    },
    {
      "cell_type": "code",
      "source": [
        "#Αφαίρεση ελλιπών δεδομένων\n",
        "data = data.dropna()"
      ],
      "metadata": {
        "id": "sBOhnKUpsExp"
      },
      "execution_count": null,
      "outputs": []
    },
    {
      "cell_type": "code",
      "source": [
        "# Κανονικοποίηση δεδομένων\n",
        "from sklearn.preprocessing import StandardScaler\n",
        "\n",
        "scaler = StandardScaler()\n",
        "data_scaled = scaler.fit_transform(data)"
      ],
      "metadata": {
        "id": "mXT16mtvsFYE"
      },
      "execution_count": null,
      "outputs": []
    },
    {
      "cell_type": "code",
      "source": [
        "from sklearn.ensemble import IsolationForest\n",
        "\n",
        "# Εκπαίδευση του μοντέλου Isolation Forest\n",
        "model = IsolationForest(contamination=0.01)\n",
        "model.fit(data_scaled)\n",
        "\n",
        "# Πρόβλεψη ανωμαλιών\n",
        "anomalies = model.predict(data_scaled)\n",
        "data['anamaly']= anomalies\n",
        "\n",
        "# Εμφάνιση αποτελεσμάτων\n",
        "data[data['anomaly'] == -1].head()"
      ],
      "metadata": {
        "id": "ezOpRPcnq32U"
      },
      "execution_count": null,
      "outputs": []
    },
    {
      "cell_type": "code",
      "source": [
        "# Ταξινόμηση με Random Forest\n",
        "from sklearn.ensemble import RandomForestClassifier\n",
        "from sklearn.model_selection import train_test_split\n",
        "from sklearn.metrics import classification_report\n",
        "\n",
        "# Διαχωρισμός δεδομένων σε χαρακτηριστικά και ετικέτες\n",
        "x = data.drop(columns=['anomaly'])\n",
        "y = data['anomaly']\n",
        "\n",
        "# Διαχωρισμός σε σύνολο εκπαίδευσης και δοκιμής\n",
        "x_train, x_test, y_train, y_test = train_test_split(x, y, test_size=0.2, random_state=42)\n",
        "\n",
        "# Εκπαίδευση του μοντέλου Random Forest\n",
        "rf_model = RandomForestClassifier()\n",
        "rf_model.fit(x_train, y_train)\n"
      ],
      "metadata": {
        "id": "-fxvXVQIps1A"
      },
      "execution_count": null,
      "outputs": []
    },
    {
      "cell_type": "code",
      "source": [
        "# Πρόβλεψη και αξιολόγηση\n",
        "y_pred = rf_model.predict(x_test)\n",
        "print(classification_report(y_test,y_pred))\n"
      ],
      "metadata": {
        "id": "t3f53KOMr2I9"
      },
      "execution_count": null,
      "outputs": []
    }
  ]
}